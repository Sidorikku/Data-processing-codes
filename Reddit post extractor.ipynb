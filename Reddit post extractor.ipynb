{
  "cells": [
    {
      "cell_type": "code",
      "execution_count": 4,
      "metadata": {
        "id": "kNdRnkcPODmu"
      },
      "outputs": [],
      "source": [
        "#Initialize libraries\n",
        "\n",
        "import praw\n",
        "import pandas as pd\n",
        "import emoji\n",
        "from prawcore.exceptions import TooManyRequests\n",
        "import re\n",
        "import time"
      ]
    },
    {
      "cell_type": "code",
      "execution_count": 5,
      "metadata": {
        "id": "9SaGrAyDU-kS"
      },
      "outputs": [
        {
          "name": "stdout",
          "output_type": "stream",
          "text": [
            "Number of posts and comments collected: 295\n"
          ]
        }
      ],
      "source": [
        "# Retry function with exponential backoff for network-related errors\n",
        "def retry_with_backoff(retries, delay, func, *args, **kwargs):\n",
        "    attempt = 0\n",
        "    while attempt < retries:\n",
        "        try:\n",
        "            return func(*args, **kwargs)\n",
        "        except Exception as e:\n",
        "            print(f\"Attempt {attempt+1} failed: {str(e)}. Retrying in {delay} seconds...\")\n",
        "            time.sleep(delay)\n",
        "            delay *= 2  # Exponential backoff\n",
        "            attempt += 1\n",
        "    raise Exception(\"Maximum retry attempts reached\")\n",
        "\n",
        "# Initialize Reddit API credentials\n",
        "user_agent = \"Scraper 1.0 by /u/NewBreadfruit7592\"\n",
        "reddit = praw.Reddit(\n",
        "    client_id=\"V8UWamg3F7jKCy3GI7ojtA\",\n",
        "    client_secret=\"nTcJKHEILYlGbHlZC00I78J_a9TLPw\",\n",
        "    user_agent=user_agent\n",
        ")\n",
        "\n",
        "# Define search query parameters\n",
        "keywords = ['beks','pucha', 'paps', 'squammy', 'abangers']  # Add more keywords as needed\n",
        "query = ' OR '.join(keywords)\n",
        "\n",
        "# Initialize list for content data\n",
        "content_data = []\n",
        "\n",
        "# Helper function to remove emojis\n",
        "def remove_emoji(text):\n",
        "    emoji_pattern = re.compile(\n",
        "        \"[\"\n",
        "        u\"\\U0001F600-\\U0001F64F\"  # emoticons\n",
        "        u\"\\U0001F300-\\U0001F5FF\"  # symbols & pictographs\n",
        "        u\"\\U0001F680-\\U0001F6FF\"  # transport & map symbols\n",
        "        u\"\\U0001F1E0-\\U0001F1FF\"  # flags (iOS)\n",
        "        u\"\\U00002500-\\U00002BEF\"  # chinese char\n",
        "        u\"\\U00002702-\\U000027B0\"\n",
        "        u\"\\U00002702-\\U000027B0\"\n",
        "        u\"\\U000024C2-\\U0001F251\"\n",
        "        u\"\\U0001f926-\\U0001f937\"\n",
        "        u\"\\U00010000-\\U0010ffff\"\n",
        "        u\"\\u200d\"\n",
        "        u\"\\u2640-\\u2642\"\n",
        "        u\"\\u2600-\\u2B55\"\n",
        "        u\"\\u23cf\"\n",
        "        u\"\\u23e9\"\n",
        "        u\"\\u231a\"\n",
        "        u\"\\ufe0f\"  # dingbats\n",
        "        u\"\\u3030\"\n",
        "        \"]+\", flags=re.UNICODE)\n",
        "    return emoji_pattern.sub(r'', text)\n",
        "\n",
        "# Fetch submissions using search query, limit to 100 posts\n",
        "for submission in reddit.subreddit('Philippines').search(query, limit=1000):\n",
        "    try:\n",
        "        # Combine title and body of the post\n",
        "        combined_text = f'{submission.title}\\n{submission.selftext}'\n",
        "\n",
        "        # Remove emojis from the post content\n",
        "        combined_text_no_emoji = remove_emoji(combined_text)\n",
        "\n",
        "        # Check if specific keyword(s) appear in the post\n",
        "        if any(keyword in combined_text_no_emoji.lower() for keyword in keywords):\n",
        "            # Add the post content to the data\n",
        "            content_data.append(combined_text_no_emoji)\n",
        "\n",
        "        # Fetch all comments from the post using retry with backoff\n",
        "        submission.comments.replace_more(limit=None)\n",
        "        for comment in submission.comments.list():\n",
        "            # Remove emojis from the comment\n",
        "            comment_no_emoji = remove_emoji(comment.body)\n",
        "\n",
        "            # Check if specific keyword(s) appear in the comment\n",
        "            if any(keyword in comment_no_emoji.lower() for keyword in keywords):\n",
        "                content_data.append(comment_no_emoji)\n",
        "    except Exception as e:\n",
        "        print(f\"Error while processing post: {str(e)}\")\n",
        "\n",
        "# Print number of content entries found\n",
        "print(f\"Number of posts and comments collected: {len(content_data)}\")\n",
        "\n",
        "# Convert the data to a DataFrame\n",
        "df_new = pd.DataFrame(content_data, columns=[\"Content\"])\n"
      ]
    },
    {
      "cell_type": "code",
      "execution_count": 6,
      "metadata": {
        "id": "TDcKh2wGVMTq"
      },
      "outputs": [
        {
          "name": "stdout",
          "output_type": "stream",
          "text": [
            "Data saved to Newdata_noemoji.csv\n"
          ]
        }
      ],
      "source": [
        "# Save the data to CSV\n",
        "file_path = 'bekspuchapapssquammyabangers.csv'\n",
        "df_new.to_csv(file_path, index=False, encoding='utf-8')\n",
        "\n",
        "print(f\"Data saved to {file_path}\")"
      ]
    }
  ],
  "metadata": {
    "accelerator": "GPU",
    "colab": {
      "gpuType": "T4",
      "provenance": []
    },
    "kernelspec": {
      "display_name": "Python 3",
      "name": "python3"
    },
    "language_info": {
      "codemirror_mode": {
        "name": "ipython",
        "version": 3
      },
      "file_extension": ".py",
      "mimetype": "text/x-python",
      "name": "python",
      "nbconvert_exporter": "python",
      "pygments_lexer": "ipython3",
      "version": "3.12.4"
    }
  },
  "nbformat": 4,
  "nbformat_minor": 0
}
